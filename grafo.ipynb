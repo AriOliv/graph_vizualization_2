{
 "cells": [
  {
   "cell_type": "code",
   "execution_count": 1,
   "metadata": {},
   "outputs": [],
   "source": [
    "from pyvis.network import Network\n",
    "import networkx as nx\n",
    "import pandas as pd\n",
    "import sqlite3\n",
    "import panel as pn"
   ]
  },
  {
   "source": [
    "# Trabalho A2\n",
    "## Banco de dados - 2020.2\n",
    "\n",
    "Apresentação relativa à segunda avaliação da disciplina Banco de Dados. Nosso trabalho foi feito em cima de dados disponibilizados no site Kaggle, que consistem em informações sobre jogadores, times e salários da NBA.Para o trabalho em cima das informações do banco, fornecido em SQLite, utilizamos a biblioteca Pandas de Python, trabalhando com dataframes para a criação dos grafos. Estes foram criados com outra biblioteca da mesma linguagem, Pyvis, que permite a criação de grafos interativos em HTML."
   ],
   "cell_type": "markdown",
   "metadata": {}
  },
  {
   "source": [
    "### Interface e repositório GitHub\n",
    "\n",
    "https://grafozinho.vercel.app\n",
    "\n",
    "https://github.com/AriOliv/graph_vizualization_2"
   ],
   "cell_type": "markdown",
   "metadata": {}
  },
  {
   "source": [
    "### Criando a conexão com o banco"
   ],
   "cell_type": "markdown",
   "metadata": {}
  },
  {
   "cell_type": "code",
   "execution_count": 2,
   "metadata": {},
   "outputs": [],
   "source": [
    "conn = sqlite3.connect(\"nba_salary.sqlite\")\n",
    "cur = conn.cursor()"
   ]
  },
  {
   "source": [
    "### Vendo as tabelas"
   ],
   "cell_type": "markdown",
   "metadata": {}
  },
  {
   "cell_type": "code",
   "execution_count": 3,
   "metadata": {},
   "outputs": [
    {
     "output_type": "execute_result",
     "data": {
      "text/plain": [
       "          Player   Tm     G  season17_18\n",
       "0   Alex Abrines  OKC  68.0    5725000.0\n",
       "1     Quincy Acy  BRK  32.0    1709538.0\n",
       "2   Steven Adams  OKC  80.0   22471910.0\n",
       "3  Arron Afflalo  SAC  61.0    1500000.0\n",
       "4  Alexis Ajinca  NOP  39.0    4961798.0"
      ],
      "text/html": "<div>\n<style scoped>\n    .dataframe tbody tr th:only-of-type {\n        vertical-align: middle;\n    }\n\n    .dataframe tbody tr th {\n        vertical-align: top;\n    }\n\n    .dataframe thead th {\n        text-align: right;\n    }\n</style>\n<table border=\"1\" class=\"dataframe\">\n  <thead>\n    <tr style=\"text-align: right;\">\n      <th></th>\n      <th>Player</th>\n      <th>Tm</th>\n      <th>G</th>\n      <th>season17_18</th>\n    </tr>\n  </thead>\n  <tbody>\n    <tr>\n      <th>0</th>\n      <td>Alex Abrines</td>\n      <td>OKC</td>\n      <td>68.0</td>\n      <td>5725000.0</td>\n    </tr>\n    <tr>\n      <th>1</th>\n      <td>Quincy Acy</td>\n      <td>BRK</td>\n      <td>32.0</td>\n      <td>1709538.0</td>\n    </tr>\n    <tr>\n      <th>2</th>\n      <td>Steven Adams</td>\n      <td>OKC</td>\n      <td>80.0</td>\n      <td>22471910.0</td>\n    </tr>\n    <tr>\n      <th>3</th>\n      <td>Arron Afflalo</td>\n      <td>SAC</td>\n      <td>61.0</td>\n      <td>1500000.0</td>\n    </tr>\n    <tr>\n      <th>4</th>\n      <td>Alexis Ajinca</td>\n      <td>NOP</td>\n      <td>39.0</td>\n      <td>4961798.0</td>\n    </tr>\n  </tbody>\n</table>\n</div>"
     },
     "metadata": {},
     "execution_count": 3
    }
   ],
   "source": [
    "tb = pd.read_sql(\"\"\"\n",
    "SELECT a.Player, a.Tm, a.G, b.season17_18\n",
    "FROM Seasons_Stats as a\n",
    "INNER JOIN NBA_season1718_salary as b\n",
    "ON a.PLAYER = b.Player and a.Tm = b.Tm\n",
    "WHERE a.Tm != \"TOT\" and a.Year = 2017\n",
    "\"\"\", conn)\n",
    "pd.set_option('display.max_columns', None)\n",
    "tb.head()"
   ]
  },
  {
   "source": [
    "### Entendendo os dados"
   ],
   "cell_type": "markdown",
   "metadata": {}
  },
  {
   "cell_type": "code",
   "execution_count": 4,
   "metadata": {},
   "outputs": [
    {
     "output_type": "execute_result",
     "data": {
      "text/plain": [
       "        X1    Year         Player Pos   Age   Tm     G   GS      MP   PER  \\\n",
       "0  24096.0  2017.0   Alex Abrines  SG  23.0  OKC  68.0  NaN  1055.0  10.1   \n",
       "1  24098.0  2017.0     Quincy Acy  PF  26.0  DAL   6.0  0.0    48.0  -1.4   \n",
       "2  24099.0  2017.0     Quincy Acy  PF  26.0  BRK  32.0  1.0   510.0  13.1   \n",
       "3  24100.0  2017.0   Steven Adams   C  23.0  OKC  80.0  NaN  2389.0  16.5   \n",
       "4  24101.0  2017.0  Arron Afflalo  SG  31.0  SAC  61.0  NaN  1580.0   9.0   \n",
       "\n",
       "     TS%  3PAr    FTr  ORB%  DRB%  TRB%  AST%  STL%  BLK%  TOV%  USG% blanl  \\\n",
       "0  0.560   NaN  0.144   NaN   NaN   NaN   NaN   NaN   NaN   NaN   NaN  None   \n",
       "1  0.355   NaN  0.176   NaN   NaN   NaN   0.0   0.0   0.0   NaN   NaN  None   \n",
       "2  0.587   NaN  0.373   NaN   NaN   NaN   NaN   NaN   NaN   NaN   NaN  None   \n",
       "3  0.589   NaN  0.392   NaN   NaN   NaN   NaN   NaN   NaN   NaN   NaN  None   \n",
       "4  0.559   NaN  0.221   NaN   NaN   NaN   NaN   NaN   NaN   NaN   NaN  None   \n",
       "\n",
       "   OWS  DWS   WS  WS/48 blank2  OBPM  DBPM  BPM  VORP     FG    FGA    FG%  \\\n",
       "0  1.2  0.9  2.1  0.095   None   NaN   NaN  NaN   NaN  134.0  341.0  0.393   \n",
       "1 -0.2  0.0 -0.1 -0.133   None   NaN   NaN  NaN   NaN    5.0   17.0  0.294   \n",
       "2  0.6  0.5  1.1  0.102   None   NaN   NaN  NaN   0.0   65.0  153.0  0.425   \n",
       "3  3.3  3.1  6.4  0.130   None   NaN   NaN  NaN   NaN  374.0  655.0  0.571   \n",
       "4  1.2  0.2  1.4  0.043   None   NaN   NaN  NaN   NaN  185.0  420.0  0.440   \n",
       "\n",
       "    3P  3PA  3P%     2P    2PA    2P%   eFG%     FT    FTA    FT%  ORB  DRB  \\\n",
       "0  NaN  NaN  NaN   40.0   94.0  0.426  0.531   44.0   49.0  0.898  NaN  NaN   \n",
       "1  1.0  NaN  NaN    4.0   10.0  0.400  0.324    2.0    3.0  0.667  NaN  NaN   \n",
       "2  NaN  NaN  NaN   29.0   70.0  0.414  0.542   43.0   57.0  0.754  NaN  NaN   \n",
       "3  0.0  1.0  0.0  374.0  654.0  0.572  0.571  157.0  257.0  0.611  NaN  NaN   \n",
       "4  NaN  NaN  NaN  123.0  269.0  0.457  0.514   83.0   93.0  0.892  NaN  NaN   \n",
       "\n",
       "     TRB   AST  STL  BLK  TOV     PF    PTS  \n",
       "0   86.0  40.0  NaN  NaN  NaN  114.0  406.0  \n",
       "1    8.0   0.0  0.0  0.0  NaN    9.0   13.0  \n",
       "2  107.0  18.0  NaN  NaN  NaN   58.0  209.0  \n",
       "3  615.0  86.0  NaN  NaN  NaN  195.0  905.0  \n",
       "4  125.0  78.0  NaN  NaN  NaN  104.0  515.0  "
      ],
      "text/html": "<div>\n<style scoped>\n    .dataframe tbody tr th:only-of-type {\n        vertical-align: middle;\n    }\n\n    .dataframe tbody tr th {\n        vertical-align: top;\n    }\n\n    .dataframe thead th {\n        text-align: right;\n    }\n</style>\n<table border=\"1\" class=\"dataframe\">\n  <thead>\n    <tr style=\"text-align: right;\">\n      <th></th>\n      <th>X1</th>\n      <th>Year</th>\n      <th>Player</th>\n      <th>Pos</th>\n      <th>Age</th>\n      <th>Tm</th>\n      <th>G</th>\n      <th>GS</th>\n      <th>MP</th>\n      <th>PER</th>\n      <th>TS%</th>\n      <th>3PAr</th>\n      <th>FTr</th>\n      <th>ORB%</th>\n      <th>DRB%</th>\n      <th>TRB%</th>\n      <th>AST%</th>\n      <th>STL%</th>\n      <th>BLK%</th>\n      <th>TOV%</th>\n      <th>USG%</th>\n      <th>blanl</th>\n      <th>OWS</th>\n      <th>DWS</th>\n      <th>WS</th>\n      <th>WS/48</th>\n      <th>blank2</th>\n      <th>OBPM</th>\n      <th>DBPM</th>\n      <th>BPM</th>\n      <th>VORP</th>\n      <th>FG</th>\n      <th>FGA</th>\n      <th>FG%</th>\n      <th>3P</th>\n      <th>3PA</th>\n      <th>3P%</th>\n      <th>2P</th>\n      <th>2PA</th>\n      <th>2P%</th>\n      <th>eFG%</th>\n      <th>FT</th>\n      <th>FTA</th>\n      <th>FT%</th>\n      <th>ORB</th>\n      <th>DRB</th>\n      <th>TRB</th>\n      <th>AST</th>\n      <th>STL</th>\n      <th>BLK</th>\n      <th>TOV</th>\n      <th>PF</th>\n      <th>PTS</th>\n    </tr>\n  </thead>\n  <tbody>\n    <tr>\n      <th>0</th>\n      <td>24096.0</td>\n      <td>2017.0</td>\n      <td>Alex Abrines</td>\n      <td>SG</td>\n      <td>23.0</td>\n      <td>OKC</td>\n      <td>68.0</td>\n      <td>NaN</td>\n      <td>1055.0</td>\n      <td>10.1</td>\n      <td>0.560</td>\n      <td>NaN</td>\n      <td>0.144</td>\n      <td>NaN</td>\n      <td>NaN</td>\n      <td>NaN</td>\n      <td>NaN</td>\n      <td>NaN</td>\n      <td>NaN</td>\n      <td>NaN</td>\n      <td>NaN</td>\n      <td>None</td>\n      <td>1.2</td>\n      <td>0.9</td>\n      <td>2.1</td>\n      <td>0.095</td>\n      <td>None</td>\n      <td>NaN</td>\n      <td>NaN</td>\n      <td>NaN</td>\n      <td>NaN</td>\n      <td>134.0</td>\n      <td>341.0</td>\n      <td>0.393</td>\n      <td>NaN</td>\n      <td>NaN</td>\n      <td>NaN</td>\n      <td>40.0</td>\n      <td>94.0</td>\n      <td>0.426</td>\n      <td>0.531</td>\n      <td>44.0</td>\n      <td>49.0</td>\n      <td>0.898</td>\n      <td>NaN</td>\n      <td>NaN</td>\n      <td>86.0</td>\n      <td>40.0</td>\n      <td>NaN</td>\n      <td>NaN</td>\n      <td>NaN</td>\n      <td>114.0</td>\n      <td>406.0</td>\n    </tr>\n    <tr>\n      <th>1</th>\n      <td>24098.0</td>\n      <td>2017.0</td>\n      <td>Quincy Acy</td>\n      <td>PF</td>\n      <td>26.0</td>\n      <td>DAL</td>\n      <td>6.0</td>\n      <td>0.0</td>\n      <td>48.0</td>\n      <td>-1.4</td>\n      <td>0.355</td>\n      <td>NaN</td>\n      <td>0.176</td>\n      <td>NaN</td>\n      <td>NaN</td>\n      <td>NaN</td>\n      <td>0.0</td>\n      <td>0.0</td>\n      <td>0.0</td>\n      <td>NaN</td>\n      <td>NaN</td>\n      <td>None</td>\n      <td>-0.2</td>\n      <td>0.0</td>\n      <td>-0.1</td>\n      <td>-0.133</td>\n      <td>None</td>\n      <td>NaN</td>\n      <td>NaN</td>\n      <td>NaN</td>\n      <td>NaN</td>\n      <td>5.0</td>\n      <td>17.0</td>\n      <td>0.294</td>\n      <td>1.0</td>\n      <td>NaN</td>\n      <td>NaN</td>\n      <td>4.0</td>\n      <td>10.0</td>\n      <td>0.400</td>\n      <td>0.324</td>\n      <td>2.0</td>\n      <td>3.0</td>\n      <td>0.667</td>\n      <td>NaN</td>\n      <td>NaN</td>\n      <td>8.0</td>\n      <td>0.0</td>\n      <td>0.0</td>\n      <td>0.0</td>\n      <td>NaN</td>\n      <td>9.0</td>\n      <td>13.0</td>\n    </tr>\n    <tr>\n      <th>2</th>\n      <td>24099.0</td>\n      <td>2017.0</td>\n      <td>Quincy Acy</td>\n      <td>PF</td>\n      <td>26.0</td>\n      <td>BRK</td>\n      <td>32.0</td>\n      <td>1.0</td>\n      <td>510.0</td>\n      <td>13.1</td>\n      <td>0.587</td>\n      <td>NaN</td>\n      <td>0.373</td>\n      <td>NaN</td>\n      <td>NaN</td>\n      <td>NaN</td>\n      <td>NaN</td>\n      <td>NaN</td>\n      <td>NaN</td>\n      <td>NaN</td>\n      <td>NaN</td>\n      <td>None</td>\n      <td>0.6</td>\n      <td>0.5</td>\n      <td>1.1</td>\n      <td>0.102</td>\n      <td>None</td>\n      <td>NaN</td>\n      <td>NaN</td>\n      <td>NaN</td>\n      <td>0.0</td>\n      <td>65.0</td>\n      <td>153.0</td>\n      <td>0.425</td>\n      <td>NaN</td>\n      <td>NaN</td>\n      <td>NaN</td>\n      <td>29.0</td>\n      <td>70.0</td>\n      <td>0.414</td>\n      <td>0.542</td>\n      <td>43.0</td>\n      <td>57.0</td>\n      <td>0.754</td>\n      <td>NaN</td>\n      <td>NaN</td>\n      <td>107.0</td>\n      <td>18.0</td>\n      <td>NaN</td>\n      <td>NaN</td>\n      <td>NaN</td>\n      <td>58.0</td>\n      <td>209.0</td>\n    </tr>\n    <tr>\n      <th>3</th>\n      <td>24100.0</td>\n      <td>2017.0</td>\n      <td>Steven Adams</td>\n      <td>C</td>\n      <td>23.0</td>\n      <td>OKC</td>\n      <td>80.0</td>\n      <td>NaN</td>\n      <td>2389.0</td>\n      <td>16.5</td>\n      <td>0.589</td>\n      <td>NaN</td>\n      <td>0.392</td>\n      <td>NaN</td>\n      <td>NaN</td>\n      <td>NaN</td>\n      <td>NaN</td>\n      <td>NaN</td>\n      <td>NaN</td>\n      <td>NaN</td>\n      <td>NaN</td>\n      <td>None</td>\n      <td>3.3</td>\n      <td>3.1</td>\n      <td>6.4</td>\n      <td>0.130</td>\n      <td>None</td>\n      <td>NaN</td>\n      <td>NaN</td>\n      <td>NaN</td>\n      <td>NaN</td>\n      <td>374.0</td>\n      <td>655.0</td>\n      <td>0.571</td>\n      <td>0.0</td>\n      <td>1.0</td>\n      <td>0.0</td>\n      <td>374.0</td>\n      <td>654.0</td>\n      <td>0.572</td>\n      <td>0.571</td>\n      <td>157.0</td>\n      <td>257.0</td>\n      <td>0.611</td>\n      <td>NaN</td>\n      <td>NaN</td>\n      <td>615.0</td>\n      <td>86.0</td>\n      <td>NaN</td>\n      <td>NaN</td>\n      <td>NaN</td>\n      <td>195.0</td>\n      <td>905.0</td>\n    </tr>\n    <tr>\n      <th>4</th>\n      <td>24101.0</td>\n      <td>2017.0</td>\n      <td>Arron Afflalo</td>\n      <td>SG</td>\n      <td>31.0</td>\n      <td>SAC</td>\n      <td>61.0</td>\n      <td>NaN</td>\n      <td>1580.0</td>\n      <td>9.0</td>\n      <td>0.559</td>\n      <td>NaN</td>\n      <td>0.221</td>\n      <td>NaN</td>\n      <td>NaN</td>\n      <td>NaN</td>\n      <td>NaN</td>\n      <td>NaN</td>\n      <td>NaN</td>\n      <td>NaN</td>\n      <td>NaN</td>\n      <td>None</td>\n      <td>1.2</td>\n      <td>0.2</td>\n      <td>1.4</td>\n      <td>0.043</td>\n      <td>None</td>\n      <td>NaN</td>\n      <td>NaN</td>\n      <td>NaN</td>\n      <td>NaN</td>\n      <td>185.0</td>\n      <td>420.0</td>\n      <td>0.440</td>\n      <td>NaN</td>\n      <td>NaN</td>\n      <td>NaN</td>\n      <td>123.0</td>\n      <td>269.0</td>\n      <td>0.457</td>\n      <td>0.514</td>\n      <td>83.0</td>\n      <td>93.0</td>\n      <td>0.892</td>\n      <td>NaN</td>\n      <td>NaN</td>\n      <td>125.0</td>\n      <td>78.0</td>\n      <td>NaN</td>\n      <td>NaN</td>\n      <td>NaN</td>\n      <td>104.0</td>\n      <td>515.0</td>\n    </tr>\n  </tbody>\n</table>\n</div>"
     },
     "metadata": {},
     "execution_count": 4
    }
   ],
   "source": [
    "tb = pd.read_sql(\"\"\"\n",
    "SELECT *\n",
    "FROM Seasons_Stats\n",
    "WHERE Tm != \"TOT\" and Year = 2017\n",
    "\"\"\", conn)\n",
    "tb.head(5)"
   ]
  },
  {
   "cell_type": "code",
   "execution_count": 5,
   "metadata": {},
   "outputs": [
    {
     "output_type": "execute_result",
     "data": {
      "text/plain": [
       "            Player   Tm  season17_18\n",
       "2738  A.J. Hammons  DAL    1312611.0\n",
       "1822  Aaron Brooks  CHI    2116955.0\n",
       "385   Aaron Brooks  HOU    2116955.0\n",
       "1240  Aaron Brooks  SAC    2116955.0\n",
       "806   Aaron Brooks  PHO    2116955.0"
      ],
      "text/html": "<div>\n<style scoped>\n    .dataframe tbody tr th:only-of-type {\n        vertical-align: middle;\n    }\n\n    .dataframe tbody tr th {\n        vertical-align: top;\n    }\n\n    .dataframe thead th {\n        text-align: right;\n    }\n</style>\n<table border=\"1\" class=\"dataframe\">\n  <thead>\n    <tr style=\"text-align: right;\">\n      <th></th>\n      <th>Player</th>\n      <th>Tm</th>\n      <th>season17_18</th>\n    </tr>\n  </thead>\n  <tbody>\n    <tr>\n      <th>2738</th>\n      <td>A.J. Hammons</td>\n      <td>DAL</td>\n      <td>1312611.0</td>\n    </tr>\n    <tr>\n      <th>1822</th>\n      <td>Aaron Brooks</td>\n      <td>CHI</td>\n      <td>2116955.0</td>\n    </tr>\n    <tr>\n      <th>385</th>\n      <td>Aaron Brooks</td>\n      <td>HOU</td>\n      <td>2116955.0</td>\n    </tr>\n    <tr>\n      <th>1240</th>\n      <td>Aaron Brooks</td>\n      <td>SAC</td>\n      <td>2116955.0</td>\n    </tr>\n    <tr>\n      <th>806</th>\n      <td>Aaron Brooks</td>\n      <td>PHO</td>\n      <td>2116955.0</td>\n    </tr>\n  </tbody>\n</table>\n</div>"
     },
     "metadata": {},
     "execution_count": 5
    }
   ],
   "source": [
    "df = pd.read_sql(\"\"\"\n",
    "SELECT a.`Player`, a.Tm, b.season17_18\n",
    "FROM Seasons_Stats as a\n",
    "INNER JOIN NBA_season1718_salary as b\n",
    "ON a.Player = b.`Player`\n",
    "WHERE a.Tm != \"TOT\"\n",
    "\"\"\", conn)\n",
    "pd.set_option('display.max_rows', None)\n",
    "df.drop_duplicates([\"Player\", \"Tm\"], inplace = True)\n",
    "df.sort_values(\"Player\", inplace = True)\n",
    "df.head()"
   ]
  },
  {
   "source": [
    "## Grafo 1"
   ],
   "cell_type": "markdown",
   "metadata": {}
  },
  {
   "source": [
    "Grafo relacionando todos os jogadores e times da NBA na temporada de 2016-2017. As temporadas nos EUA, assim como o ano letivo, começa e termina em anos diferentes. Neste grafo direcionado, a direção parte dos jogadores em direção aos times. Percebemos que jogadores com diversas conexões são jogadores que trocaram de times durante a temporada, gerando conexidade no grafo. Ressaltam-se também alguns poucos grafia desconexos, dos quais não tiveram nenhuma troca no time durante a temporada (nenhuma contratação nem nenhuma venda)."
   ],
   "cell_type": "markdown",
   "metadata": {}
  },
  {
   "cell_type": "code",
   "execution_count": 6,
   "metadata": {},
   "outputs": [],
   "source": [
    "tb = pd.read_sql(\"\"\"\n",
    "SELECT Player, Tm, PTS\n",
    "FROM Seasons_Stats\n",
    "WHERE Tm != \"TOT\" and Year = 2017\n",
    "\"\"\", conn)"
   ]
  },
  {
   "cell_type": "code",
   "execution_count": 7,
   "metadata": {},
   "outputs": [
    {
     "output_type": "execute_result",
     "data": {
      "text/plain": [
       "<IPython.lib.display.IFrame at 0x27488597bb0>"
      ],
      "text/html": "\n        <iframe\n            width=\"100%\"\n            height=\"750px\"\n            src=\"final1.html\"\n            frameborder=\"0\"\n            allowfullscreen\n        ></iframe>\n        "
     },
     "metadata": {},
     "execution_count": 7
    }
   ],
   "source": [
    "nba_net = Network(notebook = True, height = \"750px\", width = \"100%\", bgcolor = \"#222222\", font_color = \"white\")\n",
    "\n",
    "#Escolhendo o tipo de física\n",
    "nba_net.force_atlas_2based()\n",
    "\n",
    "\n",
    "sources = tb['Player']\n",
    "targets = tb['Tm']\n",
    "weights = tb['PTS']\n",
    "\n",
    "edge_data = zip(sources, targets, weights)\n",
    "\n",
    "for e in edge_data:\n",
    "    src = e[0]\n",
    "    dst = e[1]\n",
    "    w = e[2]\n",
    "\n",
    "    nba_net.add_node(src, src, title = src, group = dst, value = 3*w)\n",
    "    nba_net.add_node(dst, dst, title = dst, shape = \"image\", image = \"images/img2.png\", value = 100*w)\n",
    "    nba_net.add_edge(src, dst, value = 10*w)\n",
    "\n",
    "neighbor_map = nba_net.get_adj_list()\n",
    "\n",
    "\n",
    "#Adicionando descrição aos nós\n",
    "for node in nba_net.nodes:\n",
    "    node[\"title\"] += \" {}<br>\".format(len(neighbor_map[node[\"id\"]])) + \" Conexões:<br>\" + \"<br>\".join(neighbor_map[node[\"id\"]])\n",
    "    node[\"value\"] = len(neighbor_map[node[\"id\"]]) #Diz respeito ao tamanho dos nós\n",
    "\n",
    "\n",
    "nba_net.show_buttons(filter_ = None)\n",
    "nba_net.show(\"final1.html\")"
   ]
  },
  {
   "source": [
    "## Grafo 2"
   ],
   "cell_type": "markdown",
   "metadata": {}
  },
  {
   "source": [
    "Este grafo conta um pouco de história. Aqui temos três grafos desconexos que evidenciam o processo de transformação do Chicago Bulls, e a formação do famoso Dream Team. Em 1989, o Chicago Bulls, time até então de pequena relevância no cenário do basquete, começou a fazer grandes investimentos em jogadores e treinadores. Podemos perceber que, de 1989, até 1991 (ano em que o Chicago foi campeão da NBA pela primeira vez) vemos a diminuição de jogadores que passaram pelo time durante a temporada. Na NBA, em média, os times têm em torno de 12 jogadores, entre eles jogadores principais e os reservas, assim um time que passa uma temporada inteira com 12 jogadores bem evidencia o ditado: “time que está ganhando não se mexe”."
   ],
   "cell_type": "markdown",
   "metadata": {}
  },
  {
   "cell_type": "code",
   "execution_count": 8,
   "metadata": {},
   "outputs": [],
   "source": [
    "nba = pd.read_sql(\"\"\"\n",
    "SELECT Player, Tm, Year\n",
    "FROM Seasons_Stats\n",
    "WHERE Tm != \"TOT\"\n",
    "\"\"\", conn)"
   ]
  },
  {
   "cell_type": "code",
   "execution_count": 9,
   "metadata": {},
   "outputs": [],
   "source": [
    "nba1989 = nba[nba[\"Year\"] == 1989 ]\n",
    "nba1990 = nba[nba[\"Year\"] == 1990 ]\n",
    "nba1991 = nba[nba[\"Year\"] == 1991 ]\n",
    "\n",
    "nba1989_CHI = nba1989[nba1989[\"Tm\"] == \"CHI\"]\n",
    "nba1990_CHI = nba1990[nba1990[\"Tm\"] == \"CHI\"]\n",
    "nba1991_CHI = nba1991[nba1991[\"Tm\"] == \"CHI\"]\n",
    "\n",
    "nba1989_CHI[\"P_ano\"] = nba1989[\"Player\"] + \" \" + nba1989[\"Year\"].astype(str)\n",
    "nba1989_CHI[\"T_ano\"] = nba1989[\"Tm\"] + \" \" + nba1989[\"Year\"].astype(str)\n",
    "nba1990_CHI[\"P_ano\"] = nba1990[\"Player\"] + \" \" + nba1990[\"Year\"].astype(str)\n",
    "nba1990_CHI[\"T_ano\"] = nba1990[\"Tm\"] + \" \" + nba1990[\"Year\"].astype(str)\n",
    "nba1991_CHI[\"P_ano\"] = nba1991[\"Player\"] + \" \" + nba1991[\"Year\"].astype(str)\n",
    "nba1991_CHI[\"T_ano\"] = nba1991[\"Tm\"] + \" \" + nba1991[\"Year\"].astype(str)"
   ]
  },
  {
   "cell_type": "code",
   "execution_count": 10,
   "metadata": {},
   "outputs": [
    {
     "output_type": "execute_result",
     "data": {
      "text/plain": [
       "<IPython.lib.display.IFrame at 0x274888769a0>"
      ],
      "text/html": "\n        <iframe\n            width=\"100%\"\n            height=\"750px\"\n            src=\"chicago.html\"\n            frameborder=\"0\"\n            allowfullscreen\n        ></iframe>\n        "
     },
     "metadata": {},
     "execution_count": 10
    }
   ],
   "source": [
    "nba_net = Network(notebook=True, height=\"750px\", width=\"100%\", bgcolor=\"#222222\", font_color=\"white\")\n",
    "\n",
    "#Escolhendo o tipo de física\n",
    "nba_net.force_atlas_2based()\n",
    "\n",
    "got_data = nba1989_CHI\n",
    "\n",
    "sources = got_data['P_ano']\n",
    "targets = got_data['T_ano']\n",
    "\n",
    "edge_data = zip(sources, targets)\n",
    "\n",
    "for e in edge_data:\n",
    "    src = e[0]\n",
    "    dst = e[1]\n",
    "\n",
    "    nba_net.add_node(src, src, title=src, color = \"#FA3113\")\n",
    "    nba_net.add_node(dst, dst, title=dst, shape = \"image\", image = \"images/cb.png\",)\n",
    "    nba_net.add_edge(src, dst)\n",
    "\n",
    "\n",
    "neighbor_map = nba_net.get_adj_list()\n",
    "\n",
    "#Adicionando descrição aos nós\n",
    "\n",
    "for node in nba_net.nodes:\n",
    "    node[\"title\"] += \" {}<br>\".format(len(neighbor_map[node[\"id\"]])) + \" Conexões:<br>\" + \"<br>\".join(neighbor_map[node[\"id\"]])\n",
    "    node[\"value\"] = len(neighbor_map[node[\"id\"]]) #Diz respeito ao tamanho dos nós\n",
    "\n",
    "################################## Repetindo o processo ################################# \n",
    "\n",
    "got_data = nba1990_CHI\n",
    "\n",
    "sources = got_data['P_ano']\n",
    "targets = got_data['T_ano']\n",
    "\n",
    "edge_data = zip(sources, targets)\n",
    "\n",
    "for e in edge_data:\n",
    "    src = e[0]\n",
    "    dst = e[1]\n",
    "\n",
    "    nba_net.add_node(src, src, title=src, color = \"red\")\n",
    "    nba_net.add_node(dst, dst, title=dst, shape = \"image\", image = \"images/cb.png\",)\n",
    "    nba_net.add_edge(src, dst)\n",
    "\n",
    "\n",
    "neighbor_map = nba_net.get_adj_list()\n",
    "\n",
    "\n",
    "for node in nba_net.nodes:\n",
    "    node[\"title\"] += \" {}<br>\".format(len(neighbor_map[node[\"id\"]])) + \" Conexões:<br>\" + \"<br>\".join(neighbor_map[node[\"id\"]])\n",
    "    node[\"value\"] = len(neighbor_map[node[\"id\"]]) \n",
    "    \n",
    "\n",
    "################################## Repetindo o processo #################################  \n",
    "    \n",
    "got_data = nba1991_CHI\n",
    "\n",
    "sources = got_data['P_ano']\n",
    "targets = got_data['T_ano']\n",
    "\n",
    "edge_data = zip(sources, targets)\n",
    "\n",
    "for e in edge_data:\n",
    "    src = e[0]\n",
    "    dst = e[1]\n",
    "\n",
    "    nba_net.add_node(src, src, title=src, color = \"#FA512E\")\n",
    "    nba_net.add_node(dst, dst, title=dst, shape = \"image\", image = \"images/cb.png\",)\n",
    "    nba_net.add_edge(src, dst)\n",
    "\n",
    "\n",
    "neighbor_map = nba_net.get_adj_list()\n",
    "\n",
    "\n",
    "for node in nba_net.nodes:\n",
    "    node[\"title\"] += \" {}<br>\".format(len(neighbor_map[node[\"id\"]])) + \" Conexões:<br>\" + \"<br>\".join(neighbor_map[node[\"id\"]])\n",
    "    node[\"value\"] = len(neighbor_map[node[\"id\"]])\n",
    "\n",
    "nba_net.show(\"chicago.html\")"
   ]
  },
  {
   "source": [
    "## Grafo 3"
   ],
   "cell_type": "markdown",
   "metadata": {}
  },
  {
   "source": [
    "Nesta última visualização, pusemos a consulta em ordem crescente em relação ao salário, e filtramos em até 10 linhas para termos os top 10 jogadores mais bem pagos da NBA nesta temporada analisada. Temos, representado por estrelas, os times conectados aos jogadores que os pertencem. O tamanho de cada aresta e dos vértices que representam jogadores corresponde ao tamanho do salário, pago a eles."
   ],
   "cell_type": "markdown",
   "metadata": {}
  },
  {
   "cell_type": "code",
   "execution_count": 11,
   "metadata": {},
   "outputs": [
    {
     "output_type": "execute_result",
     "data": {
      "text/plain": [
       "<IPython.lib.display.IFrame at 0x27488597520>"
      ],
      "text/html": "\n        <iframe\n            width=\"100%\"\n            height=\"750px\"\n            src=\"salarios.html\"\n            frameborder=\"0\"\n            allowfullscreen\n        ></iframe>\n        "
     },
     "metadata": {},
     "execution_count": 11
    }
   ],
   "source": [
    "df_top10 = pd.read_sql(\"\"\"\n",
    "SELECT Player, Tm, season17_18\n",
    "FROM NBA_season1718_salary\n",
    "WHERE Tm != \"TOT\"\n",
    "ORDER BY season17_18 DESC\n",
    "LIMIT 10\n",
    "\"\"\", conn)\n",
    "\n",
    "nba_net = Network(notebook = True, height = \"750px\", width = \"100%\", bgcolor = \"#222222\", font_color = \"white\")\n",
    "\n",
    "#Escolhendo o tipo de física\n",
    "nba_net.force_atlas_2based()\n",
    "\n",
    "\n",
    "sources = df_top10['Player']\n",
    "targets = df_top10['Tm']\n",
    "weights = df_top10['season17_18']\n",
    "\n",
    "edge_data = zip(sources, targets, weights)\n",
    "\n",
    "for e in edge_data:\n",
    "    src = e[0]\n",
    "    dst = e[1]\n",
    "    w = e[2]\n",
    "\n",
    "    nba_net.add_node(src, src, title = src, shape = \"image\", image = \"images/img2.png\", group = dst, value = w)\n",
    "    nba_net.add_node(dst, dst, title = dst, shape = \"star\", group = dst, value = w)\n",
    "    nba_net.add_edge(src, dst, value = w)\n",
    "\n",
    "neighbor_map = nba_net.get_adj_list()\n",
    "\n",
    "#Adicionando descrição aos nós\n",
    "for node in nba_net.nodes:\n",
    "    node[\"title\"] += \" {}<br>\".format(len(neighbor_map[node[\"id\"]])) + \" Conexões:<br>\" + \"<br>\".join(neighbor_map[node[\"id\"]])\n",
    "\n",
    "\n",
    "nba_net.show(\"salarios.html\")"
   ]
  }
 ],
 "metadata": {
  "kernelspec": {
   "display_name": "Python 3",
   "language": "python",
   "name": "python3"
  },
  "language_info": {
   "codemirror_mode": {
    "name": "ipython",
    "version": 3
   },
   "file_extension": ".py",
   "mimetype": "text/x-python",
   "name": "python",
   "nbconvert_exporter": "python",
   "pygments_lexer": "ipython3",
   "version": "3.8.3-final"
  }
 },
 "nbformat": 4,
 "nbformat_minor": 4
}
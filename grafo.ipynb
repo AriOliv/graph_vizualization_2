{
 "cells": [
  {
   "cell_type": "code",
   "execution_count": null,
   "metadata": {},
   "outputs": [],
   "source": [
    "from pyvis.network import Network\n",
    "import networkx as nx\n",
    "import pandas as pd\n",
    "import sqlite3\n",
    "import panel as pn"
   ]
  },
  {
   "source": [
    "# Criando a conexão com o banco"
   ],
   "cell_type": "markdown",
   "metadata": {}
  },
  {
   "cell_type": "code",
   "execution_count": null,
   "metadata": {},
   "outputs": [],
   "source": [
    "conn = sqlite3.connect(\"nba_salary.sqlite\")\n",
    "cur = conn.cursor()"
   ]
  },
  {
   "source": [
    "### Vendo as tabelas"
   ],
   "cell_type": "markdown",
   "metadata": {}
  },
  {
   "cell_type": "code",
   "execution_count": null,
   "metadata": {},
   "outputs": [],
   "source": [
    "tb = pd.read_sql(\"\"\"\n",
    "SELECT a.Player, a.Tm, a.G, b.season17_18\n",
    "FROM Seasons_Stats as a\n",
    "INNER JOIN NBA_season1718_salary as b\n",
    "ON a.PLAYER = b.Player and a.Tm = b.Tm\n",
    "WHERE a.Tm != \"TOT\" and a.Year = 2017\n",
    "\"\"\", conn)\n",
    "pd.set_option('display.max_columns', None)\n",
    "tb.head()"
   ]
  },
  {
   "cell_type": "code",
   "execution_count": null,
   "metadata": {},
   "outputs": [],
   "source": [
    "tb = pd.read_sql(\"\"\"\n",
    "SELECT *\n",
    "FROM Seasons_Stats\n",
    "WHERE Tm != \"TOT\" and Year = 2017\n",
    "\"\"\", conn)\n",
    "tb.head(5)"
   ]
  },
  {
   "cell_type": "code",
   "execution_count": null,
   "metadata": {},
   "outputs": [],
   "source": [
    "df = pd.read_sql(\"\"\"\n",
    "SELECT a.`Player`, a.Tm, b.season17_18\n",
    "FROM Seasons_Stats as a\n",
    "INNER JOIN NBA_season1718_salary as b\n",
    "ON a.Player = b.`Player`\n",
    "WHERE a.Tm != \"TOT\"\n",
    "\"\"\", conn)\n",
    "pd.set_option('display.max_rows', None)\n",
    "df.drop_duplicates([\"Player\", \"Tm\"], inplace = True)\n",
    "df.sort_values(\"Player\", inplace = True)\n",
    "df.head(10)"
   ]
  },
  {
   "cell_type": "code",
   "execution_count": null,
   "metadata": {},
   "outputs": [],
   "source": [
    "df[\"opa\"] = df[\"Tm\"] + df[\"season17_18\"].astype(str)"
   ]
  },
  {
   "cell_type": "code",
   "execution_count": null,
   "metadata": {},
   "outputs": [],
   "source": [
    "df.head(10)"
   ]
  },
  {
   "cell_type": "code",
   "execution_count": null,
   "metadata": {},
   "outputs": [],
   "source": [
    "tb = pd.read_sql(\"\"\"\n",
    "SELECT Player, Tm, PTS\n",
    "FROM Seasons_Stats\n",
    "WHERE Tm != \"TOT\" and Year = 2017\n",
    "\"\"\", conn)\n",
    "tb.head()"
   ]
  },
  {
   "cell_type": "code",
   "execution_count": null,
   "metadata": {},
   "outputs": [],
   "source": [
    "nba_net = Network(notebook = True, height = \"750px\", width = \"100%\", bgcolor = \"#222222\", font_color = \"white\")\n",
    "\n",
    "# set the physics layout of the network\n",
    "nba_net.force_atlas_2based()\n",
    "\n",
    "\n",
    "sources = tb['Player']\n",
    "targets = tb['Tm']\n",
    "weights = tb['PTS']\n",
    "\n",
    "edge_data = zip(sources, targets, weights)\n",
    "\n",
    "for e in edge_data:\n",
    "    src = e[0]\n",
    "    dst = e[1]\n",
    "    w = e[2]\n",
    "\n",
    "    nba_net.add_node(src, src, title = src, group = dst, value = 3*w)\n",
    "    nba_net.add_node(dst, dst, title = dst, shape = \"image\", image = \"img2.png\", value = 100*w)\n",
    "    nba_net.add_edge(src, dst, value = 10*w)\n",
    "\n",
    "neighbor_map = nba_net.get_adj_list()\n",
    "\n",
    "\n",
    "# add neighbor data to node hover data\n",
    "for node in nba_net.nodes:\n",
    "    node[\"title\"] += \" {}<br>\".format(len(neighbor_map[node[\"id\"]])) + \" Conexões:<br>\" + \"<br>\".join(neighbor_map[node[\"id\"]])\n",
    "    node[\"value\"] = len(neighbor_map[node[\"id\"]]) # this value attrribute for the node affects node size\n",
    "\n",
    "\n",
    "nba_net.show_buttons(filter_ = None)\n",
    "nba_net.show(\"final1.html\")"
   ]
  },
  {
   "cell_type": "code",
   "execution_count": null,
   "metadata": {},
   "outputs": [],
   "source": [
    "nba_net = Network(notebook = True, height = \"750px\", width = \"100%\", bgcolor = None, font_color = \"white\")\n",
    "\n",
    "# set the physics layout of the network\n",
    "nba_net.force_atlas_2based()\n",
    "\n",
    "\n",
    "sources = tb['Player']\n",
    "targets = tb['Tm']\n",
    "weights = tb['PTS']\n",
    "\n",
    "edge_data = zip(sources, targets, weights)\n",
    "\n",
    "for e in edge_data:\n",
    "    src = e[0]\n",
    "    dst = e[1]\n",
    "    w = e[2]\n",
    "\n",
    "    nba_net.add_node(src, src, title = src, group = dst, value = 3*w)\n",
    "    nba_net.add_node(dst, dst, title = dst, color = \"#d95e22\", value = 100*w)\n",
    "    nba_net.add_edge(src, dst, value = 10*w)\n",
    "\n",
    "neighbor_map = nba_net.get_adj_list()\n",
    "\n",
    "\n",
    "# add neighbor data to node hover data\n",
    "for node in nba_net.nodes:\n",
    "    node[\"title\"] += \" {}<br>\".format(len(neighbor_map[node[\"id\"]])) + \" Conexões:<br>\" + \"<br>\".join(neighbor_map[node[\"id\"]])\n",
    "    node[\"value\"] = len(neighbor_map[node[\"id\"]]) # this value attrribute for the node affects node size\n",
    "\n",
    "\n",
    "nba_net.show(\"final1.png\")"
   ]
  },
  {
   "cell_type": "code",
   "execution_count": 6,
   "metadata": {},
   "outputs": [
    {
     "output_type": "execute_result",
     "data": {
      "text/plain": [
       "<IPython.lib.display.IFrame at 0x2745e1fcb50>"
      ],
      "text/html": "\n        <iframe\n            width=\"100%\"\n            height=\"750px\"\n            src=\"salarios.html\"\n            frameborder=\"0\"\n            allowfullscreen\n        ></iframe>\n        "
     },
     "metadata": {},
     "execution_count": 6
    }
   ],
   "source": [
    "df_top10 = pd.read_sql(\"\"\"\n",
    "SELECT Player, Tm, season17_18\n",
    "FROM NBA_season1718_salary\n",
    "WHERE Tm != \"TOT\"\n",
    "ORDER BY season17_18 DESC\n",
    "LIMIT 10\n",
    "\"\"\", conn)\n",
    "\n",
    "nba_net = Network(notebook = True, height = \"750px\", width = \"100%\", bgcolor = \"#222222\", font_color = \"white\")\n",
    "\n",
    "# set the physics layout of the network\n",
    "nba_net.force_atlas_2based()\n",
    "\n",
    "\n",
    "sources = df_top10['Player']\n",
    "targets = df_top10['Tm']\n",
    "weights = df_top10['season17_18']\n",
    "\n",
    "edge_data = zip(sources, targets, weights)\n",
    "\n",
    "for e in edge_data:\n",
    "    src = e[0]\n",
    "    dst = e[1]\n",
    "    w = e[2]\n",
    "##########\n",
    "\n",
    "\n",
    "\n",
    "\n",
    "##########\n",
    "    nba_net.add_node(src, src, title = src, shape = \"image\", image = \"images/img2.png\", group = dst, value = w)\n",
    "    nba_net.add_node(dst, dst, title = dst, shape = \"star\", group = dst, value = w)\n",
    "    nba_net.add_edge(src, dst, value = w)\n",
    "\n",
    "neighbor_map = nba_net.get_adj_list()\n",
    "\n",
    "# add neighbor data to node hover data\n",
    "for node in nba_net.nodes:\n",
    "    node[\"title\"] += \" {}<br>\".format(len(neighbor_map[node[\"id\"]])) + \" Conexões:<br>\" + \"<br>\".join(neighbor_map[node[\"id\"]])\n",
    "    #node[\"value\"] = len(neighbor_map[node[\"id\"]]) # this value attrribute for the node affects node size\n",
    "\n",
    "\n",
    "nba_net.show(\"salarios.html\")"
   ]
  },
  {
   "cell_type": "code",
   "execution_count": 8,
   "metadata": {},
   "outputs": [
    {
     "output_type": "execute_result",
     "data": {
      "text/plain": [
       "            Player   Tm    Year\n",
       "0  Curly Armstrong  FTW  1950.0\n",
       "1     Cliff Barker  INO  1950.0\n",
       "2    Leo Barnhorst  CHS  1950.0\n",
       "3       Ed Bartels  DNN  1950.0\n",
       "4       Ed Bartels  NYK  1950.0"
      ],
      "text/html": "<div>\n<style scoped>\n    .dataframe tbody tr th:only-of-type {\n        vertical-align: middle;\n    }\n\n    .dataframe tbody tr th {\n        vertical-align: top;\n    }\n\n    .dataframe thead th {\n        text-align: right;\n    }\n</style>\n<table border=\"1\" class=\"dataframe\">\n  <thead>\n    <tr style=\"text-align: right;\">\n      <th></th>\n      <th>Player</th>\n      <th>Tm</th>\n      <th>Year</th>\n    </tr>\n  </thead>\n  <tbody>\n    <tr>\n      <th>0</th>\n      <td>Curly Armstrong</td>\n      <td>FTW</td>\n      <td>1950.0</td>\n    </tr>\n    <tr>\n      <th>1</th>\n      <td>Cliff Barker</td>\n      <td>INO</td>\n      <td>1950.0</td>\n    </tr>\n    <tr>\n      <th>2</th>\n      <td>Leo Barnhorst</td>\n      <td>CHS</td>\n      <td>1950.0</td>\n    </tr>\n    <tr>\n      <th>3</th>\n      <td>Ed Bartels</td>\n      <td>DNN</td>\n      <td>1950.0</td>\n    </tr>\n    <tr>\n      <th>4</th>\n      <td>Ed Bartels</td>\n      <td>NYK</td>\n      <td>1950.0</td>\n    </tr>\n  </tbody>\n</table>\n</div>"
     },
     "metadata": {},
     "execution_count": 8
    }
   ],
   "source": [
    "nba = pd.read_sql(\"\"\"\n",
    "SELECT Player, Tm, Year\n",
    "FROM Seasons_Stats\n",
    "WHERE Tm != \"TOT\"\n",
    "\"\"\", conn)\n",
    "nba.head()"
   ]
  },
  {
   "cell_type": "code",
   "execution_count": 9,
   "metadata": {},
   "outputs": [],
   "source": [
    "nba1989 = nba[nba[\"Year\"] == 1989 ]\n",
    "nba1990 = nba[nba[\"Year\"] == 1990 ]\n",
    "nba1991 = nba[nba[\"Year\"] == 1991 ]\n",
    "\n",
    "nba1989_CHI = nba1989[nba1989[\"Tm\"] == \"CHI\"]\n",
    "nba1990_CHI = nba1990[nba1990[\"Tm\"] == \"CHI\"]\n",
    "nba1991_CHI = nba1991[nba1991[\"Tm\"] == \"CHI\"]\n",
    "\n",
    "nba1989_CHI[\"P_ano\"] = nba1989[\"Player\"] + \" \" + nba1989[\"Year\"].astype(str)\n",
    "nba1989_CHI[\"T_ano\"] = nba1989[\"Tm\"] + \" \" + nba1989[\"Year\"].astype(str)\n",
    "nba1990_CHI[\"P_ano\"] = nba1990[\"Player\"] + \" \" + nba1990[\"Year\"].astype(str)\n",
    "nba1990_CHI[\"T_ano\"] = nba1990[\"Tm\"] + \" \" + nba1990[\"Year\"].astype(str)\n",
    "nba1991_CHI[\"P_ano\"] = nba1991[\"Player\"] + \" \" + nba1991[\"Year\"].astype(str)\n",
    "nba1991_CHI[\"T_ano\"] = nba1991[\"Tm\"] + \" \" + nba1991[\"Year\"].astype(str)"
   ]
  },
  {
   "cell_type": "code",
   "execution_count": null,
   "metadata": {},
   "outputs": [],
   "source": [
    "nba[\"P_ano\"] = nba[\"Player\"] + nba[\"Year\"].astype(str)\n",
    "nba[\"T_ano\"] = nba[\"Tm\"] + nba[\"Year\"].astype(str)\n",
    "\n",
    "got_net = Network(notebook = True, height = \"750px\", width = \"100%\", bgcolor = \"#222222\", font_color = \"white\")\n",
    "\n",
    "# set the physics layout of the network\n",
    "got_net.force_atlas_2based()\n",
    "\n",
    "\n",
    "sources = nba['P_ano']\n",
    "targets = nba['T_ano']\n",
    "# weights = nba['season17_18']\n",
    "\n",
    "edge_data = zip(sources, targets)\n",
    "\n",
    "for e in edge_data:\n",
    "    src = e[0]\n",
    "    dst = e[1]\n",
    "#   w = e[2]\n",
    "\n",
    "    got_net.add_node(src, src, title=src)\n",
    "    got_net.add_node(dst, dst, title=dst)\n",
    "    got_net.add_edge(src, dst)\n",
    "\n",
    "neighbor_map = got_net.get_adj_list()\n",
    "\n",
    "# add neighbor data to node hover data\n",
    "#for node in got_net.nodes:\n",
    "#    node[\"title\"] += \" {}<br>\".format(len(neighbor_map[node[\"id\"]])) + \" Conexões:<br>\" + \"<br>\".join(neighbor_map[node[\"id\"]])\n",
    "#    node[\"value\"] = len(neighbor_map[node[\"id\"]]) # this value attrribute for the node affects node size\n",
    "print(neighbor_map)\n",
    "\n",
    "\n",
    "#got_net.show(\"example.html\")"
   ]
  },
  {
   "cell_type": "code",
   "execution_count": 10,
   "metadata": {},
   "outputs": [
    {
     "output_type": "execute_result",
     "data": {
      "text/plain": [
       "<IPython.lib.display.IFrame at 0x2745f40b0a0>"
      ],
      "text/html": "\n        <iframe\n            width=\"100%\"\n            height=\"750px\"\n            src=\"chicago.html\"\n            frameborder=\"0\"\n            allowfullscreen\n        ></iframe>\n        "
     },
     "metadata": {},
     "execution_count": 10
    }
   ],
   "source": [
    "nba_net = Network(notebook=True, height=\"750px\", width=\"100%\", bgcolor=\"#222222\", font_color=\"white\")\n",
    "\n",
    "# set the physics layout of the network\n",
    "nba_net.force_atlas_2based()\n",
    "\n",
    "got_data = nba1989_CHI\n",
    "\n",
    "sources = got_data['P_ano']\n",
    "targets = got_data['T_ano']\n",
    "#weights = got_data['Weight']\n",
    "\n",
    "edge_data = zip(sources, targets)\n",
    "\n",
    "for e in edge_data:\n",
    "    src = e[0]\n",
    "    dst = e[1]\n",
    "\n",
    "    nba_net.add_node(src, src, title=src, color = \"#FA3113\")\n",
    "    nba_net.add_node(dst, dst, title=dst, shape = \"image\", image = \"cb.png\",)\n",
    "    nba_net.add_edge(src, dst)\n",
    "\n",
    "\n",
    "neighbor_map = nba_net.get_adj_list()\n",
    "\n",
    "# add neighbor data to node hover data\n",
    "\n",
    "for node in nba_net.nodes:\n",
    "    node[\"title\"] += \" {}<br>\".format(len(neighbor_map[node[\"id\"]])) + \" Conexões:<br>\" + \"<br>\".join(neighbor_map[node[\"id\"]])\n",
    "    node[\"value\"] = len(neighbor_map[node[\"id\"]]) # this value attrribute for the node affects node size\n",
    "\n",
    "got_data = nba1990_CHI\n",
    "\n",
    "sources = got_data['P_ano']\n",
    "targets = got_data['T_ano']\n",
    "#weights = got_data['Weight']\n",
    "\n",
    "edge_data = zip(sources, targets)\n",
    "\n",
    "for e in edge_data:\n",
    "    src = e[0]\n",
    "    dst = e[1]\n",
    "\n",
    "    nba_net.add_node(src, src, title=src, color = \"red\")\n",
    "    nba_net.add_node(dst, dst, title=dst, shape = \"image\", image = \"cb.png\",)\n",
    "    nba_net.add_edge(src, dst)\n",
    "\n",
    "\n",
    "neighbor_map = nba_net.get_adj_list()\n",
    "\n",
    "# add neighbor data to node hover data\n",
    "\n",
    "for node in nba_net.nodes:\n",
    "    node[\"title\"] += \" {}<br>\".format(len(neighbor_map[node[\"id\"]])) + \" Conexões:<br>\" + \"<br>\".join(neighbor_map[node[\"id\"]])\n",
    "    node[\"value\"] = len(neighbor_map[node[\"id\"]]) # this value attrribute for the node affects node size\n",
    "    \n",
    "    \n",
    "    \n",
    "got_data = nba1991_CHI\n",
    "\n",
    "sources = got_data['P_ano']\n",
    "targets = got_data['T_ano']\n",
    "#weights = got_data['Weight']\n",
    "\n",
    "edge_data = zip(sources, targets)\n",
    "\n",
    "for e in edge_data:\n",
    "    src = e[0]\n",
    "    dst = e[1]\n",
    "\n",
    "    nba_net.add_node(src, src, title=src, color = \"#FA512E\")\n",
    "    nba_net.add_node(dst, dst, title=dst, shape = \"image\", image = \"../images/cb.png\",)\n",
    "    nba_net.add_edge(src, dst)\n",
    "\n",
    "\n",
    "neighbor_map = nba_net.get_adj_list()\n",
    "\n",
    "# add neighbor data to node hover data\n",
    "\n",
    "for node in nba_net.nodes:\n",
    "    node[\"title\"] += \" {}<br>\".format(len(neighbor_map[node[\"id\"]])) + \" Conexões:<br>\" + \"<br>\".join(neighbor_map[node[\"id\"]])\n",
    "    node[\"value\"] = len(neighbor_map[node[\"id\"]]) # this value attrribute for the node affects node size\n",
    "    \n",
    "\n",
    "nba_net.show(\"chicago.html\")"
   ]
  },
  {
   "cell_type": "code",
   "execution_count": null,
   "metadata": {},
   "outputs": [],
   "source": [
    "tb = pd.read_sql(\"\"\"\n",
    "SELECT Player, Tm, PTS\n",
    "FROM Seasons_Stats\n",
    "WHERE Tm != \"TOT\" and Year = 2017\n",
    "\"\"\", conn)\n",
    "tb.head()"
   ]
  },
  {
   "cell_type": "code",
   "execution_count": null,
   "metadata": {},
   "outputs": [],
   "source": [
    "got_data = nba\n",
    "\n",
    "sources = got_data['P_ano']\n",
    "targets = got_data['T_ano']\n",
    "#weights = got_data['Weight']\n",
    "\n",
    "edge_data = zip(sources, targets)\n",
    "\n",
    "for e in edge_data:\n",
    "    src = e[0]\n",
    "    dst = e[1]\n",
    "\n",
    "    got_net.add_node(src, src, title=src)\n",
    "    got_net.add_node(dst, dst, title=dst, color = \"green\")\n",
    "    got_net.add_edge(src, dst)\n",
    "\n",
    "\n",
    "neighbor_map = got_net.get_adj_list()\n",
    "\n",
    "# add neighbor data to node hover data\n",
    "\n",
    "\n",
    "for node in got_net.nodes:\n",
    "    if len(neighbor_map[node[\"id\"]]) > 20:\n",
    "        print(node[\"id\"])"
   ]
  },
  {
   "cell_type": "code",
   "execution_count": null,
   "metadata": {},
   "outputs": [],
   "source": []
  }
 ],
 "metadata": {
  "kernelspec": {
   "display_name": "Python 3",
   "language": "python",
   "name": "python3"
  },
  "language_info": {
   "codemirror_mode": {
    "name": "ipython",
    "version": 3
   },
   "file_extension": ".py",
   "mimetype": "text/x-python",
   "name": "python",
   "nbconvert_exporter": "python",
   "pygments_lexer": "ipython3",
   "version": "3.8.3-final"
  }
 },
 "nbformat": 4,
 "nbformat_minor": 4
}